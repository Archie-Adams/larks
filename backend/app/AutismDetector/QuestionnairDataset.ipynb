{
 "cells": [
  {
   "cell_type": "code",
   "execution_count": 1,
   "metadata": {},
   "outputs": [
    {
     "name": "stdout",
     "output_type": "stream",
     "text": [
      "Model accuracy: 0.99\n",
      "              precision    recall  f1-score   support\n",
      "\n",
      "       False       0.99      1.00      1.00       197\n",
      "        True       1.00      0.67      0.80         3\n",
      "\n",
      "    accuracy                           0.99       200\n",
      "   macro avg       1.00      0.83      0.90       200\n",
      "weighted avg       1.00      0.99      0.99       200\n",
      "\n"
     ]
    }
   ],
   "source": [
    "import numpy as np\n",
    "import pandas as pd\n",
    "from sklearn.model_selection import train_test_split\n",
    "from sklearn.preprocessing import StandardScaler\n",
    "from sklearn.linear_model import LogisticRegression\n",
    "from sklearn.metrics import accuracy_score, classification_report\n",
    "\n",
    "# Generate a synthetic dataset\n",
    "def generate_dataset(num_samples=1000, num_questions=17):\n",
    "    np.random.seed(42)  # Ensure reproducibility\n",
    "    # Simulate responses (0='never', 1='rarely', 2='sometimes', 3='often')\n",
    "    data = np.random.randint(0, 4, size=(num_samples, num_questions))\n",
    "    # Simulate a simple rule for labels: higher scores indicate higher probability of ASD\n",
    "    labels = np.sum(data, axis=1) > (num_questions * 2)  # Adjust this threshold as needed\n",
    "    return data, labels\n",
    "\n",
    "# Prepare dataset\n",
    "X, y = generate_dataset()\n",
    "X_train, X_test, y_train, y_test = train_test_split(X, y, test_size=0.2, random_state=42)\n",
    "\n",
    "# Feature scaling\n",
    "scaler = StandardScaler()\n",
    "X_train_scaled = scaler.fit_transform(X_train)\n",
    "X_test_scaled = scaler.transform(X_test)\n",
    "\n",
    "# Train a logistic regression model\n",
    "model = LogisticRegression(max_iter=200)\n",
    "model.fit(X_train_scaled, y_train)\n",
    "\n",
    "# Evaluate the model\n",
    "predictions = model.predict(X_test_scaled)\n",
    "accuracy = accuracy_score(y_test, predictions)\n",
    "print(f\"Model accuracy: {accuracy:.2f}\")\n",
    "print(classification_report(y_test, predictions))\n"
   ]
  }
 ],
 "metadata": {
  "interpreter": {
   "hash": "2371310abb41f4596ec457ca1e0992df68ce942553f6c0e8ef424c6dc23731f1"
  },
  "kernelspec": {
   "display_name": "Python 3.9.2 64-bit ('flask': venv)",
   "language": "python",
   "name": "python3"
  },
  "language_info": {
   "codemirror_mode": {
    "name": "ipython",
    "version": 3
   },
   "file_extension": ".py",
   "mimetype": "text/x-python",
   "name": "python",
   "nbconvert_exporter": "python",
   "pygments_lexer": "ipython3",
   "version": "3.9.2"
  },
  "orig_nbformat": 4
 },
 "nbformat": 4,
 "nbformat_minor": 2
}
