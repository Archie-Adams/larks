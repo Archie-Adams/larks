{
 "cells": [
  {
   "cell_type": "markdown",
   "metadata": {},
   "source": [
    "# MVP First Model\n",
    "\n",
    "Based on https://www.kaggle.com/code/thecansin/genomes-and-genetic-disorders-knn-78 which predicted the patients alive or deceased status using the same dataset."
   ]
  },
  {
   "cell_type": "code",
   "execution_count": 18,
   "metadata": {},
   "outputs": [],
   "source": [
    "import pandas as pd\n",
    "train = pd.read_csv(\"./train.csv\", encoding='utf-8')"
   ]
  },
  {
   "cell_type": "code",
   "execution_count": 19,
   "metadata": {},
   "outputs": [],
   "source": [
    "# Checkout the data\n",
    "# train.head()\n",
    "# train.tail()\n",
    "# train.columns"
   ]
  },
  {
   "cell_type": "code",
   "execution_count": 20,
   "metadata": {},
   "outputs": [],
   "source": [
    "# Drop fields without a probable relation to the target.\n",
    "train.drop(\"Patient Id\", axis=1, inplace=True)\n",
    "train.drop(\"Family Name\", axis=1, inplace=True)\n",
    "train.drop(\"Patient First Name\", axis=1, inplace=True)\n",
    "train.drop(\"Father's name\", axis=1, inplace=True)\n",
    "train.drop(\"Institute Name\", axis=1, inplace=True)\n",
    "train.drop(\"Location of Institute\", axis=1, inplace=True)\n",
    "train.drop(\"Place of birth\", axis=1, inplace=True)"
   ]
  },
  {
   "cell_type": "code",
   "execution_count": 21,
   "metadata": {},
   "outputs": [],
   "source": [
    "# This shows there is some missing values across most fields.\n",
    "# For better results, we need to fill these in.\n",
    "\n",
    "# train.isna().sum()"
   ]
  },
  {
   "cell_type": "code",
   "execution_count": 22,
   "metadata": {},
   "outputs": [
    {
     "name": "stderr",
     "output_type": "stream",
     "text": [
      "C:\\Users\\archi\\AppData\\Local\\Temp\\ipykernel_20312\\3175368620.py:2: FutureWarning: A value is trying to be set on a copy of a DataFrame or Series through chained assignment using an inplace method.\n",
      "The behavior will change in pandas 3.0. This inplace method will never work because the intermediate object on which we are setting values always behaves as a copy.\n",
      "\n",
      "For example, when doing 'df[col].method(value, inplace=True)', try using 'df.method({col: value}, inplace=True)' or df[col] = df[col].method(value) instead, to perform the operation inplace on the original object.\n",
      "\n",
      "\n",
      "  train[\"Patient Age\"].fillna(str(train[\"Patient Age\"].mode().values[0]),inplace=True)\n",
      "C:\\Users\\archi\\AppData\\Local\\Temp\\ipykernel_20312\\3175368620.py:2: FutureWarning: Setting an item of incompatible dtype is deprecated and will raise an error in a future version of pandas. Value '4.0' has dtype incompatible with float64, please explicitly cast to a compatible dtype first.\n",
      "  train[\"Patient Age\"].fillna(str(train[\"Patient Age\"].mode().values[0]),inplace=True)\n",
      "C:\\Users\\archi\\AppData\\Local\\Temp\\ipykernel_20312\\3175368620.py:3: FutureWarning: A value is trying to be set on a copy of a DataFrame or Series through chained assignment using an inplace method.\n",
      "The behavior will change in pandas 3.0. This inplace method will never work because the intermediate object on which we are setting values always behaves as a copy.\n",
      "\n",
      "For example, when doing 'df[col].method(value, inplace=True)', try using 'df.method({col: value}, inplace=True)' or df[col] = df[col].method(value) instead, to perform the operation inplace on the original object.\n",
      "\n",
      "\n",
      "  train[\"Inherited from father\"].fillna(str(train[\"Inherited from father\"].mode().values[0]),inplace=True)\n",
      "C:\\Users\\archi\\AppData\\Local\\Temp\\ipykernel_20312\\3175368620.py:4: FutureWarning: A value is trying to be set on a copy of a DataFrame or Series through chained assignment using an inplace method.\n",
      "The behavior will change in pandas 3.0. This inplace method will never work because the intermediate object on which we are setting values always behaves as a copy.\n",
      "\n",
      "For example, when doing 'df[col].method(value, inplace=True)', try using 'df.method({col: value}, inplace=True)' or df[col] = df[col].method(value) instead, to perform the operation inplace on the original object.\n",
      "\n",
      "\n",
      "  train[\"Maternal gene\"].fillna(str(train[\"Maternal gene\"].mode().values[0]),inplace=True)\n",
      "C:\\Users\\archi\\AppData\\Local\\Temp\\ipykernel_20312\\3175368620.py:5: FutureWarning: A value is trying to be set on a copy of a DataFrame or Series through chained assignment using an inplace method.\n",
      "The behavior will change in pandas 3.0. This inplace method will never work because the intermediate object on which we are setting values always behaves as a copy.\n",
      "\n",
      "For example, when doing 'df[col].method(value, inplace=True)', try using 'df.method({col: value}, inplace=True)' or df[col] = df[col].method(value) instead, to perform the operation inplace on the original object.\n",
      "\n",
      "\n",
      "  train[\"Mother's age\"].fillna(str(train[\"Mother's age\"].mode().values[0]),inplace=True)\n",
      "C:\\Users\\archi\\AppData\\Local\\Temp\\ipykernel_20312\\3175368620.py:5: FutureWarning: Setting an item of incompatible dtype is deprecated and will raise an error in a future version of pandas. Value '23.0' has dtype incompatible with float64, please explicitly cast to a compatible dtype first.\n",
      "  train[\"Mother's age\"].fillna(str(train[\"Mother's age\"].mode().values[0]),inplace=True)\n",
      "C:\\Users\\archi\\AppData\\Local\\Temp\\ipykernel_20312\\3175368620.py:6: FutureWarning: A value is trying to be set on a copy of a DataFrame or Series through chained assignment using an inplace method.\n",
      "The behavior will change in pandas 3.0. This inplace method will never work because the intermediate object on which we are setting values always behaves as a copy.\n",
      "\n",
      "For example, when doing 'df[col].method(value, inplace=True)', try using 'df.method({col: value}, inplace=True)' or df[col] = df[col].method(value) instead, to perform the operation inplace on the original object.\n",
      "\n",
      "\n",
      "  train[\"Father's age\"].fillna(str(train[\"Father's age\"].mode().values[0]),inplace=True)\n",
      "C:\\Users\\archi\\AppData\\Local\\Temp\\ipykernel_20312\\3175368620.py:6: FutureWarning: Setting an item of incompatible dtype is deprecated and will raise an error in a future version of pandas. Value '20.0' has dtype incompatible with float64, please explicitly cast to a compatible dtype first.\n",
      "  train[\"Father's age\"].fillna(str(train[\"Father's age\"].mode().values[0]),inplace=True)\n",
      "C:\\Users\\archi\\AppData\\Local\\Temp\\ipykernel_20312\\3175368620.py:7: FutureWarning: A value is trying to be set on a copy of a DataFrame or Series through chained assignment using an inplace method.\n",
      "The behavior will change in pandas 3.0. This inplace method will never work because the intermediate object on which we are setting values always behaves as a copy.\n",
      "\n",
      "For example, when doing 'df[col].method(value, inplace=True)', try using 'df.method({col: value}, inplace=True)' or df[col] = df[col].method(value) instead, to perform the operation inplace on the original object.\n",
      "\n",
      "\n",
      "  train[\"Respiratory Rate (breaths/min)\"].fillna(str(train[\"Respiratory Rate (breaths/min)\"].mode().values[0]),inplace=True)\n",
      "C:\\Users\\archi\\AppData\\Local\\Temp\\ipykernel_20312\\3175368620.py:8: FutureWarning: A value is trying to be set on a copy of a DataFrame or Series through chained assignment using an inplace method.\n",
      "The behavior will change in pandas 3.0. This inplace method will never work because the intermediate object on which we are setting values always behaves as a copy.\n",
      "\n",
      "For example, when doing 'df[col].method(value, inplace=True)', try using 'df.method({col: value}, inplace=True)' or df[col] = df[col].method(value) instead, to perform the operation inplace on the original object.\n",
      "\n",
      "\n",
      "  train[\"Heart Rate (rates/min\"].fillna(str(train[\"Heart Rate (rates/min\"].mode().values[0]),inplace=True)\n",
      "C:\\Users\\archi\\AppData\\Local\\Temp\\ipykernel_20312\\3175368620.py:9: FutureWarning: A value is trying to be set on a copy of a DataFrame or Series through chained assignment using an inplace method.\n",
      "The behavior will change in pandas 3.0. This inplace method will never work because the intermediate object on which we are setting values always behaves as a copy.\n",
      "\n",
      "For example, when doing 'df[col].method(value, inplace=True)', try using 'df.method({col: value}, inplace=True)' or df[col] = df[col].method(value) instead, to perform the operation inplace on the original object.\n",
      "\n",
      "\n",
      "  train[\"Test 1\"].fillna(str(train[\"Test 1\"].mode().values[0]),inplace=True)\n",
      "C:\\Users\\archi\\AppData\\Local\\Temp\\ipykernel_20312\\3175368620.py:9: FutureWarning: Setting an item of incompatible dtype is deprecated and will raise an error in a future version of pandas. Value '0.0' has dtype incompatible with float64, please explicitly cast to a compatible dtype first.\n",
      "  train[\"Test 1\"].fillna(str(train[\"Test 1\"].mode().values[0]),inplace=True)\n",
      "C:\\Users\\archi\\AppData\\Local\\Temp\\ipykernel_20312\\3175368620.py:10: FutureWarning: A value is trying to be set on a copy of a DataFrame or Series through chained assignment using an inplace method.\n",
      "The behavior will change in pandas 3.0. This inplace method will never work because the intermediate object on which we are setting values always behaves as a copy.\n",
      "\n",
      "For example, when doing 'df[col].method(value, inplace=True)', try using 'df.method({col: value}, inplace=True)' or df[col] = df[col].method(value) instead, to perform the operation inplace on the original object.\n",
      "\n",
      "\n",
      "  train[\"Test 2\"].fillna(str(train[\"Test 2\"].mode().values[0]),inplace=True)\n",
      "C:\\Users\\archi\\AppData\\Local\\Temp\\ipykernel_20312\\3175368620.py:10: FutureWarning: Setting an item of incompatible dtype is deprecated and will raise an error in a future version of pandas. Value '0.0' has dtype incompatible with float64, please explicitly cast to a compatible dtype first.\n",
      "  train[\"Test 2\"].fillna(str(train[\"Test 2\"].mode().values[0]),inplace=True)\n",
      "C:\\Users\\archi\\AppData\\Local\\Temp\\ipykernel_20312\\3175368620.py:11: FutureWarning: A value is trying to be set on a copy of a DataFrame or Series through chained assignment using an inplace method.\n",
      "The behavior will change in pandas 3.0. This inplace method will never work because the intermediate object on which we are setting values always behaves as a copy.\n",
      "\n",
      "For example, when doing 'df[col].method(value, inplace=True)', try using 'df.method({col: value}, inplace=True)' or df[col] = df[col].method(value) instead, to perform the operation inplace on the original object.\n",
      "\n",
      "\n",
      "  train[\"Test 3\"].fillna(str(train[\"Test 3\"].mode().values[0]),inplace=True)\n",
      "C:\\Users\\archi\\AppData\\Local\\Temp\\ipykernel_20312\\3175368620.py:11: FutureWarning: Setting an item of incompatible dtype is deprecated and will raise an error in a future version of pandas. Value '0.0' has dtype incompatible with float64, please explicitly cast to a compatible dtype first.\n",
      "  train[\"Test 3\"].fillna(str(train[\"Test 3\"].mode().values[0]),inplace=True)\n",
      "C:\\Users\\archi\\AppData\\Local\\Temp\\ipykernel_20312\\3175368620.py:12: FutureWarning: A value is trying to be set on a copy of a DataFrame or Series through chained assignment using an inplace method.\n",
      "The behavior will change in pandas 3.0. This inplace method will never work because the intermediate object on which we are setting values always behaves as a copy.\n",
      "\n",
      "For example, when doing 'df[col].method(value, inplace=True)', try using 'df.method({col: value}, inplace=True)' or df[col] = df[col].method(value) instead, to perform the operation inplace on the original object.\n",
      "\n",
      "\n",
      "  train[\"Test 4\"].fillna(str(train[\"Test 4\"].mode().values[0]),inplace=True)\n",
      "C:\\Users\\archi\\AppData\\Local\\Temp\\ipykernel_20312\\3175368620.py:12: FutureWarning: Setting an item of incompatible dtype is deprecated and will raise an error in a future version of pandas. Value '1.0' has dtype incompatible with float64, please explicitly cast to a compatible dtype first.\n",
      "  train[\"Test 4\"].fillna(str(train[\"Test 4\"].mode().values[0]),inplace=True)\n",
      "C:\\Users\\archi\\AppData\\Local\\Temp\\ipykernel_20312\\3175368620.py:13: FutureWarning: A value is trying to be set on a copy of a DataFrame or Series through chained assignment using an inplace method.\n",
      "The behavior will change in pandas 3.0. This inplace method will never work because the intermediate object on which we are setting values always behaves as a copy.\n",
      "\n",
      "For example, when doing 'df[col].method(value, inplace=True)', try using 'df.method({col: value}, inplace=True)' or df[col] = df[col].method(value) instead, to perform the operation inplace on the original object.\n",
      "\n",
      "\n",
      "  train[\"Test 5\"].fillna(str(train[\"Test 5\"].mode().values[0]),inplace=True)\n",
      "C:\\Users\\archi\\AppData\\Local\\Temp\\ipykernel_20312\\3175368620.py:13: FutureWarning: Setting an item of incompatible dtype is deprecated and will raise an error in a future version of pandas. Value '0.0' has dtype incompatible with float64, please explicitly cast to a compatible dtype first.\n",
      "  train[\"Test 5\"].fillna(str(train[\"Test 5\"].mode().values[0]),inplace=True)\n",
      "C:\\Users\\archi\\AppData\\Local\\Temp\\ipykernel_20312\\3175368620.py:14: FutureWarning: A value is trying to be set on a copy of a DataFrame or Series through chained assignment using an inplace method.\n",
      "The behavior will change in pandas 3.0. This inplace method will never work because the intermediate object on which we are setting values always behaves as a copy.\n",
      "\n",
      "For example, when doing 'df[col].method(value, inplace=True)', try using 'df.method({col: value}, inplace=True)' or df[col] = df[col].method(value) instead, to perform the operation inplace on the original object.\n",
      "\n",
      "\n",
      "  train[\"Parental consent\"].fillna(str(train[\"Parental consent\"].mode().values[0]),inplace=True)\n",
      "C:\\Users\\archi\\AppData\\Local\\Temp\\ipykernel_20312\\3175368620.py:15: FutureWarning: A value is trying to be set on a copy of a DataFrame or Series through chained assignment using an inplace method.\n",
      "The behavior will change in pandas 3.0. This inplace method will never work because the intermediate object on which we are setting values always behaves as a copy.\n",
      "\n",
      "For example, when doing 'df[col].method(value, inplace=True)', try using 'df.method({col: value}, inplace=True)' or df[col] = df[col].method(value) instead, to perform the operation inplace on the original object.\n",
      "\n",
      "\n",
      "  train[\"Follow-up\"].fillna(str(train[\"Follow-up\"].mode().values[0]),inplace=True)\n",
      "C:\\Users\\archi\\AppData\\Local\\Temp\\ipykernel_20312\\3175368620.py:16: FutureWarning: A value is trying to be set on a copy of a DataFrame or Series through chained assignment using an inplace method.\n",
      "The behavior will change in pandas 3.0. This inplace method will never work because the intermediate object on which we are setting values always behaves as a copy.\n",
      "\n",
      "For example, when doing 'df[col].method(value, inplace=True)', try using 'df.method({col: value}, inplace=True)' or df[col] = df[col].method(value) instead, to perform the operation inplace on the original object.\n",
      "\n",
      "\n",
      "  train[\"Gender\"].fillna(str(train[\"Gender\"].mode().values[0]),inplace=True)\n",
      "C:\\Users\\archi\\AppData\\Local\\Temp\\ipykernel_20312\\3175368620.py:17: FutureWarning: A value is trying to be set on a copy of a DataFrame or Series through chained assignment using an inplace method.\n",
      "The behavior will change in pandas 3.0. This inplace method will never work because the intermediate object on which we are setting values always behaves as a copy.\n",
      "\n",
      "For example, when doing 'df[col].method(value, inplace=True)', try using 'df.method({col: value}, inplace=True)' or df[col] = df[col].method(value) instead, to perform the operation inplace on the original object.\n",
      "\n",
      "\n",
      "  train[\"Birth asphyxia\"].fillna(str(train[\"Birth asphyxia\"].mode().values[0]),inplace=True)\n",
      "C:\\Users\\archi\\AppData\\Local\\Temp\\ipykernel_20312\\3175368620.py:18: FutureWarning: A value is trying to be set on a copy of a DataFrame or Series through chained assignment using an inplace method.\n",
      "The behavior will change in pandas 3.0. This inplace method will never work because the intermediate object on which we are setting values always behaves as a copy.\n",
      "\n",
      "For example, when doing 'df[col].method(value, inplace=True)', try using 'df.method({col: value}, inplace=True)' or df[col] = df[col].method(value) instead, to perform the operation inplace on the original object.\n",
      "\n",
      "\n",
      "  train[\"Autopsy shows birth defect (if applicable)\"].fillna(str(train[\"Autopsy shows birth defect (if applicable)\"].mode().values[0]),inplace=True)\n",
      "C:\\Users\\archi\\AppData\\Local\\Temp\\ipykernel_20312\\3175368620.py:19: FutureWarning: A value is trying to be set on a copy of a DataFrame or Series through chained assignment using an inplace method.\n",
      "The behavior will change in pandas 3.0. This inplace method will never work because the intermediate object on which we are setting values always behaves as a copy.\n",
      "\n",
      "For example, when doing 'df[col].method(value, inplace=True)', try using 'df.method({col: value}, inplace=True)' or df[col] = df[col].method(value) instead, to perform the operation inplace on the original object.\n",
      "\n",
      "\n",
      "  train[\"Folic acid details (peri-conceptional)\"].fillna(str(train[\"Folic acid details (peri-conceptional)\"].mode().values[0]),inplace=True)\n",
      "C:\\Users\\archi\\AppData\\Local\\Temp\\ipykernel_20312\\3175368620.py:20: FutureWarning: A value is trying to be set on a copy of a DataFrame or Series through chained assignment using an inplace method.\n",
      "The behavior will change in pandas 3.0. This inplace method will never work because the intermediate object on which we are setting values always behaves as a copy.\n",
      "\n",
      "For example, when doing 'df[col].method(value, inplace=True)', try using 'df.method({col: value}, inplace=True)' or df[col] = df[col].method(value) instead, to perform the operation inplace on the original object.\n",
      "\n",
      "\n",
      "  train[\"H/O serious maternal illness\"].fillna(str(train[\"H/O serious maternal illness\"].mode().values[0]),inplace=True)\n",
      "C:\\Users\\archi\\AppData\\Local\\Temp\\ipykernel_20312\\3175368620.py:21: FutureWarning: A value is trying to be set on a copy of a DataFrame or Series through chained assignment using an inplace method.\n",
      "The behavior will change in pandas 3.0. This inplace method will never work because the intermediate object on which we are setting values always behaves as a copy.\n",
      "\n",
      "For example, when doing 'df[col].method(value, inplace=True)', try using 'df.method({col: value}, inplace=True)' or df[col] = df[col].method(value) instead, to perform the operation inplace on the original object.\n",
      "\n",
      "\n",
      "  train[\"H/O radiation exposure (x-ray)\"].fillna(str(train[\"H/O radiation exposure (x-ray)\"].mode().values[0]),inplace=True)\n",
      "C:\\Users\\archi\\AppData\\Local\\Temp\\ipykernel_20312\\3175368620.py:22: FutureWarning: A value is trying to be set on a copy of a DataFrame or Series through chained assignment using an inplace method.\n",
      "The behavior will change in pandas 3.0. This inplace method will never work because the intermediate object on which we are setting values always behaves as a copy.\n",
      "\n",
      "For example, when doing 'df[col].method(value, inplace=True)', try using 'df.method({col: value}, inplace=True)' or df[col] = df[col].method(value) instead, to perform the operation inplace on the original object.\n",
      "\n",
      "\n",
      "  train[\"H/O substance abuse\"].fillna(str(train[\"H/O substance abuse\"].mode().values[0]),inplace=True)\n",
      "C:\\Users\\archi\\AppData\\Local\\Temp\\ipykernel_20312\\3175368620.py:23: FutureWarning: A value is trying to be set on a copy of a DataFrame or Series through chained assignment using an inplace method.\n",
      "The behavior will change in pandas 3.0. This inplace method will never work because the intermediate object on which we are setting values always behaves as a copy.\n",
      "\n",
      "For example, when doing 'df[col].method(value, inplace=True)', try using 'df.method({col: value}, inplace=True)' or df[col] = df[col].method(value) instead, to perform the operation inplace on the original object.\n",
      "\n",
      "\n",
      "  train[\"Assisted conception IVF/ART\"].fillna(str(train[\"Assisted conception IVF/ART\"].mode().values[0]),inplace=True)\n",
      "C:\\Users\\archi\\AppData\\Local\\Temp\\ipykernel_20312\\3175368620.py:24: FutureWarning: A value is trying to be set on a copy of a DataFrame or Series through chained assignment using an inplace method.\n",
      "The behavior will change in pandas 3.0. This inplace method will never work because the intermediate object on which we are setting values always behaves as a copy.\n",
      "\n",
      "For example, when doing 'df[col].method(value, inplace=True)', try using 'df.method({col: value}, inplace=True)' or df[col] = df[col].method(value) instead, to perform the operation inplace on the original object.\n",
      "\n",
      "\n",
      "  train[\"History of anomalies in previous pregnancies\"].fillna(str(train[\"History of anomalies in previous pregnancies\"].mode().values[0]),inplace=True)\n",
      "C:\\Users\\archi\\AppData\\Local\\Temp\\ipykernel_20312\\3175368620.py:25: FutureWarning: A value is trying to be set on a copy of a DataFrame or Series through chained assignment using an inplace method.\n",
      "The behavior will change in pandas 3.0. This inplace method will never work because the intermediate object on which we are setting values always behaves as a copy.\n",
      "\n",
      "For example, when doing 'df[col].method(value, inplace=True)', try using 'df.method({col: value}, inplace=True)' or df[col] = df[col].method(value) instead, to perform the operation inplace on the original object.\n",
      "\n",
      "\n",
      "  train[\"No. of previous abortion\"].fillna(str(train[\"No. of previous abortion\"].mode().values[0]),inplace=True)\n",
      "C:\\Users\\archi\\AppData\\Local\\Temp\\ipykernel_20312\\3175368620.py:25: FutureWarning: Setting an item of incompatible dtype is deprecated and will raise an error in a future version of pandas. Value '2.0' has dtype incompatible with float64, please explicitly cast to a compatible dtype first.\n",
      "  train[\"No. of previous abortion\"].fillna(str(train[\"No. of previous abortion\"].mode().values[0]),inplace=True)\n",
      "C:\\Users\\archi\\AppData\\Local\\Temp\\ipykernel_20312\\3175368620.py:26: FutureWarning: A value is trying to be set on a copy of a DataFrame or Series through chained assignment using an inplace method.\n",
      "The behavior will change in pandas 3.0. This inplace method will never work because the intermediate object on which we are setting values always behaves as a copy.\n",
      "\n",
      "For example, when doing 'df[col].method(value, inplace=True)', try using 'df.method({col: value}, inplace=True)' or df[col] = df[col].method(value) instead, to perform the operation inplace on the original object.\n",
      "\n",
      "\n",
      "  train[\"Birth defects\"].fillna(str(train[\"Birth defects\"].mode().values[0]),inplace=True)\n",
      "C:\\Users\\archi\\AppData\\Local\\Temp\\ipykernel_20312\\3175368620.py:27: FutureWarning: A value is trying to be set on a copy of a DataFrame or Series through chained assignment using an inplace method.\n",
      "The behavior will change in pandas 3.0. This inplace method will never work because the intermediate object on which we are setting values always behaves as a copy.\n",
      "\n",
      "For example, when doing 'df[col].method(value, inplace=True)', try using 'df.method({col: value}, inplace=True)' or df[col] = df[col].method(value) instead, to perform the operation inplace on the original object.\n",
      "\n",
      "\n",
      "  train[\"White Blood cell count (thousand per microliter)\"].fillna(str(train[\"White Blood cell count (thousand per microliter)\"].mode().values[0]),inplace=True)\n",
      "C:\\Users\\archi\\AppData\\Local\\Temp\\ipykernel_20312\\3175368620.py:27: FutureWarning: Setting an item of incompatible dtype is deprecated and will raise an error in a future version of pandas. Value '3.0' has dtype incompatible with float64, please explicitly cast to a compatible dtype first.\n",
      "  train[\"White Blood cell count (thousand per microliter)\"].fillna(str(train[\"White Blood cell count (thousand per microliter)\"].mode().values[0]),inplace=True)\n",
      "C:\\Users\\archi\\AppData\\Local\\Temp\\ipykernel_20312\\3175368620.py:28: FutureWarning: A value is trying to be set on a copy of a DataFrame or Series through chained assignment using an inplace method.\n",
      "The behavior will change in pandas 3.0. This inplace method will never work because the intermediate object on which we are setting values always behaves as a copy.\n",
      "\n",
      "For example, when doing 'df[col].method(value, inplace=True)', try using 'df.method({col: value}, inplace=True)' or df[col] = df[col].method(value) instead, to perform the operation inplace on the original object.\n",
      "\n",
      "\n",
      "  train[\"Blood test result\"].fillna(str(train[\"Blood test result\"].mode().values[0]),inplace=True)\n",
      "C:\\Users\\archi\\AppData\\Local\\Temp\\ipykernel_20312\\3175368620.py:29: FutureWarning: A value is trying to be set on a copy of a DataFrame or Series through chained assignment using an inplace method.\n",
      "The behavior will change in pandas 3.0. This inplace method will never work because the intermediate object on which we are setting values always behaves as a copy.\n",
      "\n",
      "For example, when doing 'df[col].method(value, inplace=True)', try using 'df.method({col: value}, inplace=True)' or df[col] = df[col].method(value) instead, to perform the operation inplace on the original object.\n",
      "\n",
      "\n",
      "  train[\"Symptom 1\"].fillna(str(train[\"Symptom 1\"].mode().values[0]),inplace=True)\n",
      "C:\\Users\\archi\\AppData\\Local\\Temp\\ipykernel_20312\\3175368620.py:29: FutureWarning: Setting an item of incompatible dtype is deprecated and will raise an error in a future version of pandas. Value '1.0' has dtype incompatible with float64, please explicitly cast to a compatible dtype first.\n",
      "  train[\"Symptom 1\"].fillna(str(train[\"Symptom 1\"].mode().values[0]),inplace=True)\n",
      "C:\\Users\\archi\\AppData\\Local\\Temp\\ipykernel_20312\\3175368620.py:30: FutureWarning: A value is trying to be set on a copy of a DataFrame or Series through chained assignment using an inplace method.\n",
      "The behavior will change in pandas 3.0. This inplace method will never work because the intermediate object on which we are setting values always behaves as a copy.\n",
      "\n",
      "For example, when doing 'df[col].method(value, inplace=True)', try using 'df.method({col: value}, inplace=True)' or df[col] = df[col].method(value) instead, to perform the operation inplace on the original object.\n",
      "\n",
      "\n",
      "  train[\"Symptom 2\"].fillna(str(train[\"Symptom 2\"].mode().values[0]),inplace=True)\n",
      "C:\\Users\\archi\\AppData\\Local\\Temp\\ipykernel_20312\\3175368620.py:30: FutureWarning: Setting an item of incompatible dtype is deprecated and will raise an error in a future version of pandas. Value '1.0' has dtype incompatible with float64, please explicitly cast to a compatible dtype first.\n",
      "  train[\"Symptom 2\"].fillna(str(train[\"Symptom 2\"].mode().values[0]),inplace=True)\n",
      "C:\\Users\\archi\\AppData\\Local\\Temp\\ipykernel_20312\\3175368620.py:31: FutureWarning: A value is trying to be set on a copy of a DataFrame or Series through chained assignment using an inplace method.\n",
      "The behavior will change in pandas 3.0. This inplace method will never work because the intermediate object on which we are setting values always behaves as a copy.\n",
      "\n",
      "For example, when doing 'df[col].method(value, inplace=True)', try using 'df.method({col: value}, inplace=True)' or df[col] = df[col].method(value) instead, to perform the operation inplace on the original object.\n",
      "\n",
      "\n",
      "  train[\"Symptom 3\"].fillna(str(train[\"Symptom 3\"].mode().values[0]),inplace=True)\n",
      "C:\\Users\\archi\\AppData\\Local\\Temp\\ipykernel_20312\\3175368620.py:31: FutureWarning: Setting an item of incompatible dtype is deprecated and will raise an error in a future version of pandas. Value '1.0' has dtype incompatible with float64, please explicitly cast to a compatible dtype first.\n",
      "  train[\"Symptom 3\"].fillna(str(train[\"Symptom 3\"].mode().values[0]),inplace=True)\n",
      "C:\\Users\\archi\\AppData\\Local\\Temp\\ipykernel_20312\\3175368620.py:32: FutureWarning: A value is trying to be set on a copy of a DataFrame or Series through chained assignment using an inplace method.\n",
      "The behavior will change in pandas 3.0. This inplace method will never work because the intermediate object on which we are setting values always behaves as a copy.\n",
      "\n",
      "For example, when doing 'df[col].method(value, inplace=True)', try using 'df.method({col: value}, inplace=True)' or df[col] = df[col].method(value) instead, to perform the operation inplace on the original object.\n",
      "\n",
      "\n",
      "  train[\"Symptom 4\"].fillna(str(train[\"Symptom 4\"].mode().values[0]),inplace=True)\n",
      "C:\\Users\\archi\\AppData\\Local\\Temp\\ipykernel_20312\\3175368620.py:32: FutureWarning: Setting an item of incompatible dtype is deprecated and will raise an error in a future version of pandas. Value '0.0' has dtype incompatible with float64, please explicitly cast to a compatible dtype first.\n",
      "  train[\"Symptom 4\"].fillna(str(train[\"Symptom 4\"].mode().values[0]),inplace=True)\n",
      "C:\\Users\\archi\\AppData\\Local\\Temp\\ipykernel_20312\\3175368620.py:33: FutureWarning: A value is trying to be set on a copy of a DataFrame or Series through chained assignment using an inplace method.\n",
      "The behavior will change in pandas 3.0. This inplace method will never work because the intermediate object on which we are setting values always behaves as a copy.\n",
      "\n",
      "For example, when doing 'df[col].method(value, inplace=True)', try using 'df.method({col: value}, inplace=True)' or df[col] = df[col].method(value) instead, to perform the operation inplace on the original object.\n",
      "\n",
      "\n",
      "  train[\"Symptom 5\"].fillna(str(train[\"Symptom 5\"].mode().values[0]),inplace=True)\n",
      "C:\\Users\\archi\\AppData\\Local\\Temp\\ipykernel_20312\\3175368620.py:33: FutureWarning: Setting an item of incompatible dtype is deprecated and will raise an error in a future version of pandas. Value '0.0' has dtype incompatible with float64, please explicitly cast to a compatible dtype first.\n",
      "  train[\"Symptom 5\"].fillna(str(train[\"Symptom 5\"].mode().values[0]),inplace=True)\n",
      "C:\\Users\\archi\\AppData\\Local\\Temp\\ipykernel_20312\\3175368620.py:39: FutureWarning: A value is trying to be set on a copy of a DataFrame or Series through chained assignment using an inplace method.\n",
      "The behavior will change in pandas 3.0. This inplace method will never work because the intermediate object on which we are setting values always behaves as a copy.\n",
      "\n",
      "For example, when doing 'df[col].method(value, inplace=True)', try using 'df.method({col: value}, inplace=True)' or df[col] = df[col].method(value) instead, to perform the operation inplace on the original object.\n",
      "\n",
      "\n",
      "  train[\"Genetic Disorder\"].fillna(str(train[\"Genetic Disorder\"].mode().values[0]),inplace=True)\n"
     ]
    }
   ],
   "source": [
    "# Here, the solution was to fill with the mode\n",
    "train[\"Patient Age\"].fillna(str(train[\"Patient Age\"].mode().values[0]),inplace=True)\n",
    "train[\"Inherited from father\"].fillna(str(train[\"Inherited from father\"].mode().values[0]),inplace=True)\n",
    "train[\"Maternal gene\"].fillna(str(train[\"Maternal gene\"].mode().values[0]),inplace=True)\n",
    "train[\"Mother's age\"].fillna(str(train[\"Mother's age\"].mode().values[0]),inplace=True)\n",
    "train[\"Father's age\"].fillna(str(train[\"Father's age\"].mode().values[0]),inplace=True)\n",
    "train[\"Respiratory Rate (breaths/min)\"].fillna(str(train[\"Respiratory Rate (breaths/min)\"].mode().values[0]),inplace=True)\n",
    "train[\"Heart Rate (rates/min\"].fillna(str(train[\"Heart Rate (rates/min\"].mode().values[0]),inplace=True)\n",
    "train[\"Test 1\"].fillna(str(train[\"Test 1\"].mode().values[0]),inplace=True)\n",
    "train[\"Test 2\"].fillna(str(train[\"Test 2\"].mode().values[0]),inplace=True)\n",
    "train[\"Test 3\"].fillna(str(train[\"Test 3\"].mode().values[0]),inplace=True)\n",
    "train[\"Test 4\"].fillna(str(train[\"Test 4\"].mode().values[0]),inplace=True)\n",
    "train[\"Test 5\"].fillna(str(train[\"Test 5\"].mode().values[0]),inplace=True)\n",
    "train[\"Parental consent\"].fillna(str(train[\"Parental consent\"].mode().values[0]),inplace=True)\n",
    "train[\"Follow-up\"].fillna(str(train[\"Follow-up\"].mode().values[0]),inplace=True)\n",
    "train[\"Gender\"].fillna(str(train[\"Gender\"].mode().values[0]),inplace=True)\n",
    "train[\"Birth asphyxia\"].fillna(str(train[\"Birth asphyxia\"].mode().values[0]),inplace=True)\n",
    "train[\"Autopsy shows birth defect (if applicable)\"].fillna(str(train[\"Autopsy shows birth defect (if applicable)\"].mode().values[0]),inplace=True)\n",
    "train[\"Folic acid details (peri-conceptional)\"].fillna(str(train[\"Folic acid details (peri-conceptional)\"].mode().values[0]),inplace=True)\n",
    "train[\"H/O serious maternal illness\"].fillna(str(train[\"H/O serious maternal illness\"].mode().values[0]),inplace=True)\n",
    "train[\"H/O radiation exposure (x-ray)\"].fillna(str(train[\"H/O radiation exposure (x-ray)\"].mode().values[0]),inplace=True)\n",
    "train[\"H/O substance abuse\"].fillna(str(train[\"H/O substance abuse\"].mode().values[0]),inplace=True)\n",
    "train[\"Assisted conception IVF/ART\"].fillna(str(train[\"Assisted conception IVF/ART\"].mode().values[0]),inplace=True)\n",
    "train[\"History of anomalies in previous pregnancies\"].fillna(str(train[\"History of anomalies in previous pregnancies\"].mode().values[0]),inplace=True)\n",
    "train[\"No. of previous abortion\"].fillna(str(train[\"No. of previous abortion\"].mode().values[0]),inplace=True)\n",
    "train[\"Birth defects\"].fillna(str(train[\"Birth defects\"].mode().values[0]),inplace=True)\n",
    "train[\"White Blood cell count (thousand per microliter)\"].fillna(str(train[\"White Blood cell count (thousand per microliter)\"].mode().values[0]),inplace=True)\n",
    "train[\"Blood test result\"].fillna(str(train[\"Blood test result\"].mode().values[0]),inplace=True)\n",
    "train[\"Symptom 1\"].fillna(str(train[\"Symptom 1\"].mode().values[0]),inplace=True)\n",
    "train[\"Symptom 2\"].fillna(str(train[\"Symptom 2\"].mode().values[0]),inplace=True)\n",
    "train[\"Symptom 3\"].fillna(str(train[\"Symptom 3\"].mode().values[0]),inplace=True)\n",
    "train[\"Symptom 4\"].fillna(str(train[\"Symptom 4\"].mode().values[0]),inplace=True)\n",
    "train[\"Symptom 5\"].fillna(str(train[\"Symptom 5\"].mode().values[0]),inplace=True)\n",
    "\n",
    "# TODO: This should be changed to drop null targets?\n",
    "# train[\"Disorder Subclass\"].fillna(str(train[\"Disorder Subclass\"].mode().values[0]),inplace=True)\n",
    "train = train[train['Genetic Disorder'].isna() == False]\n",
    "train = train[train['Disorder Subclass'].isna() == False]\n",
    "train[\"Genetic Disorder\"].fillna(str(train[\"Genetic Disorder\"].mode().values[0]),inplace=True)\n",
    "# train.drop(\"Genetic Disorder\", axis=1, inplace=True)"
   ]
  },
  {
   "cell_type": "code",
   "execution_count": 23,
   "metadata": {},
   "outputs": [],
   "source": [
    "# train.isna().sum()"
   ]
  },
  {
   "cell_type": "code",
   "execution_count": 24,
   "metadata": {},
   "outputs": [
    {
     "name": "stdout",
     "output_type": "stream",
     "text": [
      "<class 'pandas.core.frame.DataFrame'>\n",
      "Index: 18047 entries, 0 to 22082\n",
      "Data columns (total 38 columns):\n",
      " #   Column                                            Non-Null Count  Dtype  \n",
      "---  ------                                            --------------  -----  \n",
      " 0   Patient Age                                       18047 non-null  object \n",
      " 1   Genes in mother's side                            18047 non-null  object \n",
      " 2   Inherited from father                             18047 non-null  object \n",
      " 3   Maternal gene                                     18047 non-null  object \n",
      " 4   Paternal gene                                     18047 non-null  object \n",
      " 5   Blood cell count (mcL)                            18047 non-null  float64\n",
      " 6   Mother's age                                      18047 non-null  object \n",
      " 7   Father's age                                      18047 non-null  object \n",
      " 8   Status                                            18047 non-null  object \n",
      " 9   Respiratory Rate (breaths/min)                    18047 non-null  object \n",
      " 10  Heart Rate (rates/min                             18047 non-null  object \n",
      " 11  Test 1                                            18047 non-null  object \n",
      " 12  Test 2                                            18047 non-null  object \n",
      " 13  Test 3                                            18047 non-null  object \n",
      " 14  Test 4                                            18047 non-null  object \n",
      " 15  Test 5                                            18047 non-null  object \n",
      " 16  Parental consent                                  18047 non-null  object \n",
      " 17  Follow-up                                         18047 non-null  object \n",
      " 18  Gender                                            18047 non-null  object \n",
      " 19  Birth asphyxia                                    18047 non-null  object \n",
      " 20  Autopsy shows birth defect (if applicable)        18047 non-null  object \n",
      " 21  Folic acid details (peri-conceptional)            18047 non-null  object \n",
      " 22  H/O serious maternal illness                      18047 non-null  object \n",
      " 23  H/O radiation exposure (x-ray)                    18047 non-null  object \n",
      " 24  H/O substance abuse                               18047 non-null  object \n",
      " 25  Assisted conception IVF/ART                       18047 non-null  object \n",
      " 26  History of anomalies in previous pregnancies      18047 non-null  object \n",
      " 27  No. of previous abortion                          18047 non-null  object \n",
      " 28  Birth defects                                     18047 non-null  object \n",
      " 29  White Blood cell count (thousand per microliter)  18047 non-null  object \n",
      " 30  Blood test result                                 18047 non-null  object \n",
      " 31  Symptom 1                                         18047 non-null  object \n",
      " 32  Symptom 2                                         18047 non-null  object \n",
      " 33  Symptom 3                                         18047 non-null  object \n",
      " 34  Symptom 4                                         18047 non-null  object \n",
      " 35  Symptom 5                                         18047 non-null  object \n",
      " 36  Genetic Disorder                                  18047 non-null  object \n",
      " 37  Disorder Subclass                                 18047 non-null  object \n",
      "dtypes: float64(1), object(37)\n",
      "memory usage: 5.4+ MB\n"
     ]
    }
   ],
   "source": [
    "# Check there are no more null values.\n",
    "train.info()"
   ]
  },
  {
   "cell_type": "code",
   "execution_count": 25,
   "metadata": {},
   "outputs": [],
   "source": [
    "# TODO: Instead of the mode: Could use KNN to predict the missing values using rows that aren't null?\n",
    "\n",
    "train[\"Genes in mother's side\"]=[1 if i.strip()== \"Yes\" else 0 for i in train[\"Genes in mother's side\"]]\n",
    "train[\"Inherited from father\"]=[1 if i.strip()== \"Yes\" else 0 for i in train[\"Inherited from father\"]]\n",
    "train[\"Maternal gene\"]=[1 if i.strip()== \"Yes\" else 0 for i in train[\"Maternal gene\"]]\n",
    "train[\"Paternal gene\"]=[1 if i.strip()== \"Yes\" else 0 for i in train[\"Paternal gene\"]]\n",
    "train[\"Parental consent\"]=[1 if i.strip()== \"Yes\" else 0 for i in train[\"Parental consent\"]]\n",
    "train[\"Birth asphyxia\"]=[1 if i.strip()== \"Yes\" else 0 for i in train[\"Birth asphyxia\"]]\n",
    "train[\"Folic acid details (peri-conceptional)\"]=[1 if i.strip()== \"Yes\" else 0 for i in train[\"Folic acid details (peri-conceptional)\"]]\n",
    "train[\"H/O radiation exposure (x-ray)\"]=[1 if i.strip()== \"Yes\" else 0 for i in train[\"H/O radiation exposure (x-ray)\"]]\n",
    "train[\"H/O substance abuse\"]=[1 if i.strip()== \"Yes\" else 0 for i in train[\"H/O substance abuse\"]]\n",
    "train[\"Assisted conception IVF/ART\"]=[1 if i.strip()== \"Yes\" else 0 for i in train[\"Assisted conception IVF/ART\"]]\n",
    "train[\"History of anomalies in previous pregnancies\"]=[1 if i.strip()== \"Yes\" else 0 for i in train[\"History of anomalies in previous pregnancies\"]]\n",
    "train[\"H/O serious maternal illness\"]=[1 if i.strip()==\"Yes\" else 0 for i in train[\"H/O serious maternal illness\"]]\n",
    "\n",
    "#Alive':1 'Deceased:0'\n",
    "train[\"Status\"]=[1 if i.strip()== \"Alive\" else 0 for i in train[\"Status\"]]\n",
    "#Normal (30-60):1' 'Tachypnea:0\n",
    "train[\"Respiratory Rate (breaths/min)\"]=[1 if i.strip()== \"Normal (30-60)\" else 0 for i in train[\"Respiratory Rate (breaths/min)\"]]\n",
    "#Normal:1' 'Tachycardia:0\n",
    "train[\"Heart Rate (rates/min\"]=[1 if i.strip()== \"Normal\" else 0 for i in train[\"Heart Rate (rates/min\"]]\n",
    "#High:1, Low:0\n",
    "train[\"Follow-up\"]=[1 if i.strip()== \"High\" else 0 for i in train[\"Follow-up\"]]\n",
    "#['Singular' 'Multiple']\n",
    "train[\"Birth defects\"]=[1 if i.strip()== \"Singular\" else 0 for i in train[\"Birth defects\"]]\n",
    "\n",
    "#1: male 0: female 2: ambiguous    \n",
    "train[\"Gender\"]=[1 if i.strip()== \"Male\" else 0 if i.strip() == \"Female\" else 2 for i in train[\"Gender\"]]\n",
    "\n",
    "train[\"Autopsy shows birth defect (if applicable)\"]=[1 if i.strip()== \"Yes\" else 0 if i.strip() == \"No\" else 2 if i.strip()==\"None\" else 3 for i in train[\"Autopsy shows birth defect (if applicable)\"]]\n",
    "\n",
    "train[\"Blood test result\"]=[1 if i.strip()== \"slightly abnormal\" else 0 if i.strip() == \"normal\" else 2 if i.strip()==\"inconclusive\" else 3 for i in train[\"Blood test result\"]]\n",
    "\n",
    "# TODO: The disorder itself can still be text based?\n",
    "# TODO: Can get rid of the subclass?\n",
    "# TODO: What is the relation between these.\n",
    "train[\"Genetic Disorder\"]=[1 if i.strip() == \"Mitochondrial genetic inheritance disorders\" else 0 if i.strip() == \"Multifactorial genetic inheritance disorders\" else 2 for i in train[\"Genetic Disorder\"]]\n",
    "#Leber's hereditary optic neuropathy:1 \n",
    "#Cystic fibrosis:0\n",
    "#Diabetes:2\n",
    "#Leigh syndrome:3\n",
    "#Cancer:4\n",
    "#Tay-Sachs:5\n",
    "#Hemochromatosis:6\n",
    "#Mitochondrial myopathy:7\n",
    "#Alzheimer's:8\n",
    "train[\"Disorder Subclass\"]=[1 if i.strip()== \"Leber's hereditary optic neuropathy\" \n",
    "                              else 0 if i.strip() == \"Cystic fibrosis\" \n",
    "                               else 2 if i.strip()==\"Diabetes\" \n",
    "                               else 3 if i.strip()==\"Leigh syndrome\"\n",
    "                               else 4 if i.strip()==\"Cancer\"\n",
    "                               else 5 if i.strip()==\"Tay-Sachs\"\n",
    "                               else 6 if i.strip()==\"Hemochromatosis\"\n",
    "                               else 7 if i.strip()==\"Mitochondrial myopathy\"\n",
    "                               else 8 for i in train[\"Disorder Subclass\"]]\n",
    "\n",
    "train = train.apply(pd.to_numeric,downcast=\"float\")\n",
    "\n",
    "# train.head()"
   ]
  },
  {
   "cell_type": "code",
   "execution_count": 26,
   "metadata": {},
   "outputs": [],
   "source": [
    "# Check all the fields are now floats\n",
    "# train.info()\n"
   ]
  },
  {
   "cell_type": "code",
   "execution_count": 27,
   "metadata": {},
   "outputs": [],
   "source": [
    "# Optionally we could:\n",
    "\n",
    "# ?? One Percentage less accurate?\n",
    "\n",
    "# train[\"sum of Mother's and fathers age avg\"]=(train[\"Mother's age\"]+train[\"Father's age\"]) / 2\n",
    "# train[\"total symptom\"]=(train[\"Symptom 1\"]+train[\"Symptom 2\"]+train[\"Symptom 3\"]+train[\"Symptom 4\"]+train[\"Symptom 5\"]) / 5\n"
   ]
  },
  {
   "cell_type": "markdown",
   "metadata": {},
   "source": [
    "## Now we have cleaned data: Let us test classifiers on it."
   ]
  },
  {
   "cell_type": "code",
   "execution_count": 28,
   "metadata": {},
   "outputs": [],
   "source": [
    "# train.describe()"
   ]
  },
  {
   "cell_type": "code",
   "execution_count": 29,
   "metadata": {},
   "outputs": [],
   "source": [
    "from sklearn.model_selection import train_test_split\n",
    "from sklearn.metrics import accuracy_score\n",
    "\n",
    "train.drop(\"Genetic Disorder\", axis=1, inplace=True)\n",
    "\n",
    "targetColumn = 'Disorder Subclass'\n",
    "output_set = train[targetColumn]\n",
    "input_set = train.drop(columns=[targetColumn])\n",
    "X_train, X_test, Y_train, Y_test = train_test_split(input_set, output_set, test_size=0.2, random_state = 1)\n"
   ]
  },
  {
   "cell_type": "code",
   "execution_count": 30,
   "metadata": {},
   "outputs": [
    {
     "name": "stderr",
     "output_type": "stream",
     "text": [
      "C:\\Users\\archi\\AppData\\Local\\Packages\\PythonSoftwareFoundation.Python.3.11_qbz5n2kfra8p0\\LocalCache\\local-packages\\Python311\\site-packages\\sklearn\\base.py:486: UserWarning: X has feature names, but DecisionTreeClassifier was fitted without feature names\n",
      "  warnings.warn(\n"
     ]
    },
    {
     "data": {
      "text/plain": [
       "0.29445983379501384"
      ]
     },
     "execution_count": 30,
     "metadata": {},
     "output_type": "execute_result"
    }
   ],
   "source": [
    "from sklearn.tree import DecisionTreeClassifier\n",
    "\n",
    "M = DecisionTreeClassifier()\n",
    "M.fit(X_train.values, Y_train) # x.values because: https://stackoverflow.com/questions/69326639/sklearn-warning-valid-feature-names-in-version-1-0\n",
    "\n",
    "predictions = M.predict(X_test)\n",
    "accuracy_score(Y_test, predictions) # Produces diff each time as the train_test_split splitting is random each time."
   ]
  },
  {
   "cell_type": "code",
   "execution_count": 31,
   "metadata": {},
   "outputs": [
    {
     "data": {
      "text/plain": [
       "0.26204986149584486"
      ]
     },
     "execution_count": 31,
     "metadata": {},
     "output_type": "execute_result"
    }
   ],
   "source": [
    "from sklearn.neighbors import KNeighborsClassifier\n",
    "\n",
    "knn = KNeighborsClassifier(n_neighbors = 1500)\n",
    "knn.fit(X_train, Y_train)\n",
    "\n",
    "prediction = knn.predict(X_test)\n",
    "accuracy_score(Y_test, prediction)"
   ]
  },
  {
   "cell_type": "code",
   "execution_count": 32,
   "metadata": {},
   "outputs": [
    {
     "data": {
      "text/plain": [
       "0.41274238227146814"
      ]
     },
     "execution_count": 32,
     "metadata": {},
     "output_type": "execute_result"
    }
   ],
   "source": [
    "#Import svm model\n",
    "from sklearn import svm\n",
    "\n",
    "model = svm.SVC(kernel='linear') # Linear Kernel\n",
    "model.fit(X_train, Y_train)\n",
    "\n",
    "prediction = model.predict(X_test)\n",
    "accuracy_score(Y_test, prediction)"
   ]
  },
  {
   "cell_type": "code",
   "execution_count": 33,
   "metadata": {},
   "outputs": [
    {
     "data": {
      "text/plain": [
       "0.4083102493074792"
      ]
     },
     "execution_count": 33,
     "metadata": {},
     "output_type": "execute_result"
    }
   ],
   "source": [
    "#Import svm model\n",
    "from sklearn import svm\n",
    "\n",
    "X_train, X_test, Y_train, Y_test = train_test_split(input_set, output_set, test_size=0.3, random_state = 1)\n",
    "\n",
    "model = svm.SVC(kernel='linear') # Linear Kernel\n",
    "model.fit(X_train, Y_train)\n",
    "\n",
    "prediction = model.predict(X_test)\n",
    "accuracy_score(Y_test, prediction)"
   ]
  },
  {
   "cell_type": "code",
   "execution_count": 34,
   "metadata": {},
   "outputs": [
    {
     "data": {
      "text/plain": [
       "0.28642659279778393"
      ]
     },
     "execution_count": 34,
     "metadata": {},
     "output_type": "execute_result"
    }
   ],
   "source": [
    "model = svm.SVC(kernel='poly') # Linear Kernel\n",
    "model.fit(X_train, Y_train)\n",
    "\n",
    "prediction = model.predict(X_test)\n",
    "accuracy_score(Y_test, prediction)"
   ]
  },
  {
   "cell_type": "code",
   "execution_count": 35,
   "metadata": {},
   "outputs": [
    {
     "data": {
      "text/plain": [
       "0.2631578947368421"
      ]
     },
     "execution_count": 35,
     "metadata": {},
     "output_type": "execute_result"
    }
   ],
   "source": [
    "model = svm.SVC(kernel='rbf') # Linear Kernel\n",
    "model.fit(X_train, Y_train)\n",
    "\n",
    "prediction = model.predict(X_test)\n",
    "accuracy_score(Y_test, prediction)"
   ]
  }
 ],
 "metadata": {
  "kernelspec": {
   "display_name": "Python 3",
   "language": "python",
   "name": "python3"
  },
  "language_info": {
   "codemirror_mode": {
    "name": "ipython",
    "version": 3
   },
   "file_extension": ".py",
   "mimetype": "text/x-python",
   "name": "python",
   "nbconvert_exporter": "python",
   "pygments_lexer": "ipython3",
   "version": "3.11.8"
  }
 },
 "nbformat": 4,
 "nbformat_minor": 2
}
