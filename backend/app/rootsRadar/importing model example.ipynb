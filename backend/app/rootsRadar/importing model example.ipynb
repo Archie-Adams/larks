{
 "cells": [
  {
   "cell_type": "code",
   "execution_count": 3,
   "id": "a73c9d14-9e56-42ca-8cb9-161c8a7a2d0a",
   "metadata": {},
   "outputs": [
    {
     "data": {
      "text/plain": [
       "array(['HipHop', 'Dance'], dtype=object)"
      ]
     },
     "execution_count": 3,
     "metadata": {},
     "output_type": "execute_result"
    }
   ],
   "source": [
    "# https://www.youtube.com/watch?v=7eh4d6sabA0&ab_channel=ProgrammingwithMosh @ 42:00\n",
    "from sklearn.tree import DecisionTreeClassifier\n",
    "import joblib # has methods for saving and loading models\n",
    "M = joblib.load('music_reccommender.joblib')\n",
    "M.predict([[21, 1], [22, 0]]) # prediction for a 21yr old male and 22yr old female"
   ]
  },
  {
   "cell_type": "code",
   "execution_count": null,
   "id": "8baf8fbd-bb77-4b24-a0c8-1849d62e5709",
   "metadata": {},
   "outputs": [],
   "source": []
  }
 ],
 "metadata": {
  "kernelspec": {
   "display_name": "Python 3 (ipykernel)",
   "language": "python",
   "name": "python3"
  },
  "language_info": {
   "codemirror_mode": {
    "name": "ipython",
    "version": 3
   },
   "file_extension": ".py",
   "mimetype": "text/x-python",
   "name": "python",
   "nbconvert_exporter": "python",
   "pygments_lexer": "ipython3",
   "version": "3.8.10"
  }
 },
 "nbformat": 4,
 "nbformat_minor": 5
}
