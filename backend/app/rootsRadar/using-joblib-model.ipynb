{
 "cells": [
  {
   "cell_type": "code",
   "execution_count": 27,
   "id": "99fdaca2-12db-4e7e-af4e-43af409b7153",
   "metadata": {},
   "outputs": [
    {
     "name": "stderr",
     "output_type": "stream",
     "text": [
      "/home/archie/dev/larks/backend/.venv/lib/python3.8/site-packages/sklearn/base.py:465: UserWarning: X does not have valid feature names, but StandardScaler was fitted with feature names\n",
      "  warnings.warn(\n"
     ]
    },
    {
     "data": {
      "text/plain": [
       "5.0"
      ]
     },
     "execution_count": 27,
     "metadata": {},
     "output_type": "execute_result"
    }
   ],
   "source": [
    "from sklearn.svm import SVC\n",
    "import joblib # has methods for saving and loading models\n",
    "M = joblib.load('classifier-LinearSVM-joblib-dump.joblib')\n",
    "M.predict([[3.0,1.0,0.0,1.0,1.0,4.9010797,30.0,63.0,1.0,0.0,1.0,0.0,0.0,1.0,0.0,0.0,1.0,0.0,3.0,0.0,6.8259745,0.0,0.0,0.0,0.0,0.0,0.0]])[0] # correct!!!"
   ]
  },
  {
   "cell_type": "code",
   "execution_count": null,
   "id": "9dc03f4d-2693-4946-bc08-88687674c1c5",
   "metadata": {},
   "outputs": [],
   "source": []
  },
  {
   "cell_type": "code",
   "execution_count": null,
   "id": "b375e910-639d-479a-b0a2-2d97be24818e",
   "metadata": {},
   "outputs": [],
   "source": []
  },
  {
   "cell_type": "code",
   "execution_count": null,
   "id": "e29eebb4-0904-4857-89fe-dee6ca5494b6",
   "metadata": {},
   "outputs": [],
   "source": []
  }
 ],
 "metadata": {
  "kernelspec": {
   "display_name": "Python 3 (ipykernel)",
   "language": "python",
   "name": "python3"
  },
  "language_info": {
   "codemirror_mode": {
    "name": "ipython",
    "version": 3
   },
   "file_extension": ".py",
   "mimetype": "text/x-python",
   "name": "python",
   "nbconvert_exporter": "python",
   "pygments_lexer": "ipython3",
   "version": "3.8.18"
  }
 },
 "nbformat": 4,
 "nbformat_minor": 5
}
