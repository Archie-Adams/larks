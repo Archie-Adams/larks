{
 "cells": [
  {
   "cell_type": "markdown",
   "metadata": {},
   "source": [
    "# MVP First Model\n",
    "\n",
    "Based on https://www.kaggle.com/code/thecansin/genomes-and-genetic-disorders-knn-78 which predicted the patients alive or deceased status using the same dataset."
   ]
  },
  {
   "cell_type": "markdown",
   "metadata": {},
   "source": [
    "**Firstly, import the data**"
   ]
  },
  {
   "cell_type": "code",
   "execution_count": 119,
   "metadata": {},
   "outputs": [],
   "source": [
    "import pandas as pd\n",
    "train = pd.read_csv(\"./train.csv\", encoding='utf-8')"
   ]
  },
  {
   "cell_type": "markdown",
   "metadata": {},
   "source": [
    "**Next, we drop fields and cull rows with null values to optimize the model by using only data that is helpfull**"
   ]
  },
  {
   "cell_type": "code",
   "execution_count": 120,
   "metadata": {},
   "outputs": [
    {
     "data": {
      "text/plain": [
       "Patient Age                                         186\n",
       "Genes in mother's side                                0\n",
       "Inherited from father                                51\n",
       "Maternal gene                                       407\n",
       "Paternal gene                                         0\n",
       "Blood cell count (mcL)                                0\n",
       "Mother's age                                        863\n",
       "Father's age                                        895\n",
       "Respiratory Rate (breaths/min)                      291\n",
       "Heart Rate (rates/min                               309\n",
       "Gender                                              308\n",
       "Birth asphyxia                                      321\n",
       "Folic acid details (peri-conceptional)              302\n",
       "H/O serious maternal illness                        331\n",
       "H/O radiation exposure (x-ray)                      317\n",
       "H/O substance abuse                                 310\n",
       "Assisted conception IVF/ART                         306\n",
       "History of anomalies in previous pregnancies        295\n",
       "No. of previous abortion                            321\n",
       "Birth defects                                       301\n",
       "White Blood cell count (thousand per microliter)    288\n",
       "Blood test result                                   302\n",
       "Symptom 1                                           304\n",
       "Symptom 2                                           311\n",
       "Symptom 3                                           314\n",
       "Symptom 4                                           303\n",
       "Symptom 5                                           318\n",
       "Disorder Subclass                                     0\n",
       "dtype: int64"
      ]
     },
     "execution_count": 120,
     "metadata": {},
     "output_type": "execute_result"
    }
   ],
   "source": [
    "# Drop fields without a probable relation to the target.\n",
    "train.drop(\"Patient Id\", axis=1, inplace=True)\n",
    "train.drop(\"Family Name\", axis=1, inplace=True)\n",
    "train.drop(\"Patient First Name\", axis=1, inplace=True)\n",
    "train.drop(\"Father's name\", axis=1, inplace=True)\n",
    "train.drop(\"Institute Name\", axis=1, inplace=True)\n",
    "train.drop(\"Location of Institute\", axis=1, inplace=True)\n",
    "train.drop(\"Place of birth\", axis=1, inplace=True)\n",
    "\n",
    "# get rid of dead and after death data\n",
    "train.drop(train[train[\"Status\"] != \"Alive\"].index, inplace=True)\n",
    "train.drop(\"Autopsy shows birth defect (if applicable)\", axis=1, inplace=True)\n",
    "\n",
    "# increases decision tree to 71%\n",
    "train.drop(\"Parental consent\", axis=1, inplace=True)\n",
    "train.drop(\"Status\", axis=1, inplace=True)\n",
    "train.drop(\"Follow-up\", axis=1, inplace=True)\n",
    "\n",
    "\n",
    "# remove null age's\n",
    "# train.drop(train[train[\"Patient Age\"].isna()].index, inplace=True)\n",
    "# excluding Leber's amd multifactoral is 46\n",
    "\n",
    "# 64 on svm\n",
    "train.drop(train[train[\"Disorder Subclass\"] == \"Leber's hereditary optic neuropathy\"].index, inplace=True)\n",
    "train.drop(train[train[\"Disorder Subclass\"] == \"Leigh syndrome\"].index, inplace=True)\n",
    "train.drop(train[train[\"Disorder Subclass\"] == \"Mitochondrial myopathy\"].index, inplace=True)\n",
    "\n",
    "# These two together: 62 percent\n",
    "\n",
    "# not good because just diabetes and that is testable\n",
    "# 92 on svm \n",
    "train.drop(train[train[\"Disorder Subclass\"] == \"Alzheimer's\"].index, inplace=True)\n",
    "train.drop(train[train[\"Disorder Subclass\"] == \"Cancer\"].index, inplace=True)\n",
    "train.drop(train[train[\"Disorder Subclass\"] == \"Diabetes\"].index, inplace=True)\n",
    "\n",
    "\n",
    "# 76 percent on svm 77 after moding afterwards\n",
    "# train.drop(train[train[\"Disorder Subclass\"] == \"Cystic fibrosis\"].index, inplace=True)\n",
    "# train.drop(train[train[\"Disorder Subclass\"] == \"Hemochromatosis\"].index, inplace=True)\n",
    "# train.drop(train[train[\"Disorder Subclass\"] == \"Tay-Sachs\"].index, inplace=True)\n",
    "\n",
    "train = train[train['Disorder Subclass'].isna() == False]\n",
    "train = train[train['Genetic Disorder'].isna() == False]\n",
    "\n",
    "train.drop(\"Genetic Disorder\", axis=1, inplace=True)\n",
    "\n",
    "\n",
    "# Test removing more variables\n",
    "train.drop(\"Test 1\", axis=1, inplace=True)\n",
    "train.drop(\"Test 2\", axis=1, inplace=True)\n",
    "train.drop(\"Test 3\", axis=1, inplace=True)\n",
    "train.drop(\"Test 4\", axis=1, inplace=True)\n",
    "train.drop(\"Test 5\", axis=1, inplace=True)\n",
    "\n",
    "# Removing gender has no effect on model score \n",
    "# train.drop(\"Gender\", axis=1, inplace=True)\n",
    "\n",
    "# Dropping Symptoms goes from 77% to ~50%\n",
    "# train.drop(\"Symptom 1\", axis=1, inplace=True)\n",
    "# train.drop(\"Symptom 2\", axis=1, inplace=True)\n",
    "# train.drop(\"Symptom 3\", axis=1, inplace=True)\n",
    "# train.drop(\"Symptom 4\", axis=1, inplace=True)\n",
    "# train.drop(\"Symptom 5\", axis=1, inplace=True)\n",
    "\n",
    "train.isna().sum()\n",
    "# train[\"Gender\"].value_counts()\n"
   ]
  },
  {
   "cell_type": "markdown",
   "metadata": {},
   "source": [
    "**Now, fill the remaining null values with estimates**"
   ]
  },
  {
   "cell_type": "code",
   "execution_count": 121,
   "metadata": {},
   "outputs": [],
   "source": [
    "# TODO:\n",
    "# Better syntetic method, and reduce null efficiently \n",
    "# Remove null parent ages?\n",
    "# First check how much parent age affects the result \n",
    "# "
   ]
  },
  {
   "cell_type": "code",
   "execution_count": 122,
   "metadata": {},
   "outputs": [],
   "source": [
    "# Here, the solution was to fill with the mode\n",
    "train[\"Patient Age\"].fillna(str(train[\"Patient Age\"].mode().values[0]),inplace=True)\n",
    "train[\"Inherited from father\"].fillna(str(train[\"Inherited from father\"].mode().values[0]),inplace=True)\n",
    "train[\"Maternal gene\"].fillna(str(train[\"Maternal gene\"].mode().values[0]),inplace=True)\n",
    "train[\"Mother's age\"].fillna(str(train[\"Mother's age\"].mode().values[0]),inplace=True)\n",
    "train[\"Father's age\"].fillna(str(train[\"Father's age\"].mode().values[0]),inplace=True)\n",
    "train[\"Respiratory Rate (breaths/min)\"].fillna(str(train[\"Respiratory Rate (breaths/min)\"].mode().values[0]),inplace=True)\n",
    "train[\"Heart Rate (rates/min\"].fillna(str(train[\"Heart Rate (rates/min\"].mode().values[0]),inplace=True)\n",
    "# train[\"Test 1\"].fillna(str(train[\"Test 1\"].mode().values[0]),inplace=True)\n",
    "# train[\"Test 2\"].fillna(str(train[\"Test 2\"].mode().values[0]),inplace=True)\n",
    "# train[\"Test 3\"].fillna(str(train[\"Test 3\"].mode().values[0]),inplace=True)\n",
    "# train[\"Test 4\"].fillna(str(train[\"Test 4\"].mode().values[0]),inplace=True)\n",
    "# train[\"Test 5\"].fillna(str(train[\"Test 5\"].mode().values[0]),inplace=True)\n",
    "# train[\"Parental consent\"].fillna(str(train[\"Parental consent\"].mode().values[0]),inplace=True)\n",
    "# train[\"Follow-up\"].fillna(str(train[\"Follow-up\"].mode().values[0]),inplace=True)\n",
    "train[\"Gender\"].fillna(str(train[\"Gender\"].mode().values[0]),inplace=True)\n",
    "train[\"Birth asphyxia\"].fillna(str(train[\"Birth asphyxia\"].mode().values[0]),inplace=True)\n",
    "# train[\"Autopsy shows birth defect (if applicable)\"].fillna(str(train[\"Autopsy shows birth defect (if applicable)\"].mode().values[0]),inplace=True)\n",
    "train[\"Folic acid details (peri-conceptional)\"].fillna(str(train[\"Folic acid details (peri-conceptional)\"].mode().values[0]),inplace=True)\n",
    "train[\"H/O serious maternal illness\"].fillna(str(train[\"H/O serious maternal illness\"].mode().values[0]),inplace=True)\n",
    "train[\"H/O radiation exposure (x-ray)\"].fillna(str(train[\"H/O radiation exposure (x-ray)\"].mode().values[0]),inplace=True)\n",
    "train[\"H/O substance abuse\"].fillna(str(train[\"H/O substance abuse\"].mode().values[0]),inplace=True)\n",
    "train[\"Assisted conception IVF/ART\"].fillna(str(train[\"Assisted conception IVF/ART\"].mode().values[0]),inplace=True)\n",
    "train[\"History of anomalies in previous pregnancies\"].fillna(str(train[\"History of anomalies in previous pregnancies\"].mode().values[0]),inplace=True)\n",
    "train[\"No. of previous abortion\"].fillna(str(train[\"No. of previous abortion\"].mode().values[0]),inplace=True)\n",
    "train[\"Birth defects\"].fillna(str(train[\"Birth defects\"].mode().values[0]),inplace=True)\n",
    "train[\"White Blood cell count (thousand per microliter)\"].fillna(str(train[\"White Blood cell count (thousand per microliter)\"].mode().values[0]),inplace=True)\n",
    "train[\"Blood test result\"].fillna(str(train[\"Blood test result\"].mode().values[0]),inplace=True)\n",
    "train[\"Symptom 1\"].fillna(str(train[\"Symptom 1\"].mode().values[0]),inplace=True)\n",
    "train[\"Symptom 2\"].fillna(str(train[\"Symptom 2\"].mode().values[0]),inplace=True)\n",
    "train[\"Symptom 3\"].fillna(str(train[\"Symptom 3\"].mode().values[0]),inplace=True)\n",
    "train[\"Symptom 4\"].fillna(str(train[\"Symptom 4\"].mode().values[0]),inplace=True)\n",
    "train[\"Symptom 5\"].fillna(str(train[\"Symptom 5\"].mode().values[0]),inplace=True)"
   ]
  },
  {
   "cell_type": "markdown",
   "metadata": {},
   "source": [
    "**Before fitting the model, we need to encode the remaining data**"
   ]
  },
  {
   "cell_type": "code",
   "execution_count": 123,
   "metadata": {},
   "outputs": [],
   "source": [
    "train[\"Genes in mother's side\"]=[1 if i.strip()== \"Yes\" else 0 for i in train[\"Genes in mother's side\"]]\n",
    "train[\"Inherited from father\"]=[1 if i.strip()== \"Yes\" else 0 for i in train[\"Inherited from father\"]]\n",
    "train[\"Maternal gene\"]=[1 if i.strip()== \"Yes\" else 0 for i in train[\"Maternal gene\"]]\n",
    "train[\"Paternal gene\"]=[1 if i.strip()== \"Yes\" else 0 for i in train[\"Paternal gene\"]]\n",
    "# train[\"Parental consent\"]=[1 if i.strip()== \"Yes\" else 0 for i in train[\"Parental consent\"]]\n",
    "train[\"Birth asphyxia\"]=[1 if i.strip()== \"Yes\" else 0 for i in train[\"Birth asphyxia\"]]\n",
    "train[\"Folic acid details (peri-conceptional)\"]=[1 if i.strip()== \"Yes\" else 0 for i in train[\"Folic acid details (peri-conceptional)\"]]\n",
    "train[\"H/O radiation exposure (x-ray)\"]=[1 if i.strip()== \"Yes\" else 0 for i in train[\"H/O radiation exposure (x-ray)\"]]\n",
    "train[\"H/O substance abuse\"]=[1 if i.strip()== \"Yes\" else 0 for i in train[\"H/O substance abuse\"]]\n",
    "train[\"Assisted conception IVF/ART\"]=[1 if i.strip()== \"Yes\" else 0 for i in train[\"Assisted conception IVF/ART\"]]\n",
    "train[\"History of anomalies in previous pregnancies\"]=[1 if i.strip()== \"Yes\" else 0 for i in train[\"History of anomalies in previous pregnancies\"]]\n",
    "train[\"H/O serious maternal illness\"]=[1 if i.strip()==\"Yes\" else 0 for i in train[\"H/O serious maternal illness\"]]\n",
    "\n",
    "#Alive':1 'Deceased:0'\n",
    "# train[\"Status\"]=[1 if i.strip()== \"Alive\" else 0 for i in train[\"Status\"]]\n",
    "#Normal (30-60):1' 'Tachypnea:0\n",
    "train[\"Respiratory Rate (breaths/min)\"]=[1 if i.strip()== \"Normal (30-60)\" else 0 for i in train[\"Respiratory Rate (breaths/min)\"]]\n",
    "#Normal:1' 'Tachycardia:0\n",
    "train[\"Heart Rate (rates/min\"]=[1 if i.strip()== \"Normal\" else 0 for i in train[\"Heart Rate (rates/min\"]]\n",
    "#High:1, Low:0\n",
    "# train[\"Follow-up\"]=[1 if i.strip()== \"High\" else 0 for i in train[\"Follow-up\"]]\n",
    "#['Singular' 'Multiple']\n",
    "train[\"Birth defects\"]=[1 if i.strip()== \"Singular\" else 0 for i in train[\"Birth defects\"]]\n",
    "\n",
    "#1: male 0: female 2: ambiguous    \n",
    "train[\"Gender\"]=[1 if i.strip()== \"Male\" else 0 if i.strip() == \"Female\" else 2 for i in train[\"Gender\"]]\n",
    "\n",
    "# train[\"Autopsy shows birth defect (if applicable)\"]=[1 if i.strip()== \"Yes\" else 0 if i.strip() == \"No\" else 2 if i.strip()==\"None\" else 3 for i in train[\"Autopsy shows birth defect (if applicable)\"]]\n",
    "\n",
    "train[\"Blood test result\"]=[1 if i.strip()== \"slightly abnormal\" else 0 if i.strip() == \"normal\" else 2 if i.strip()==\"inconclusive\" else 3 for i in train[\"Blood test result\"]]\n",
    "\n",
    "# train[\"Genetic Disorder\"]=[1 if i.strip() == \"Mitochondrial genetic inheritance disorders\" else 0 if i.strip() == \"Multifactorial genetic inheritance disorders\" else 2 for i in train[\"Genetic Disorder\"]]\n",
    "#Leber's hereditary optic neuropathy:1 \n",
    "#Cystic fibrosis:0\n",
    "#Diabetes:2\n",
    "#Leigh syndrome:3\n",
    "#Cancer:4\n",
    "#Tay-Sachs:5\n",
    "#Hemochromatosis:6\n",
    "#Mitochondrial myopathy:7\n",
    "#Alzheimer's:8\n",
    "train[\"Disorder Subclass\"]=[1 if i.strip()== \"Leber's hereditary optic neuropathy\" \n",
    "                              else 0 if i.strip() == \"Cystic fibrosis\" \n",
    "                               else 2 if i.strip()==\"Diabetes\" \n",
    "                               else 3 if i.strip()==\"Leigh syndrome\"\n",
    "                               else 4 if i.strip()==\"Cancer\"\n",
    "                               else 5 if i.strip()==\"Tay-Sachs\"\n",
    "                               else 6 if i.strip()==\"Hemochromatosis\"\n",
    "                               else 7 if i.strip()==\"Mitochondrial myopathy\"\n",
    "                               else 8 for i in train[\"Disorder Subclass\"]]\n",
    "\n",
    "train = train.apply(pd.to_numeric,downcast=\"float\")\n",
    "\n",
    "# train.head()"
   ]
  },
  {
   "cell_type": "code",
   "execution_count": 124,
   "metadata": {},
   "outputs": [],
   "source": [
    "# Optionally we could: (Taken from one of the kaggle examples. Probably not helpul in our use case)\n",
    "\n",
    "# ?? One Percentage less accurate?\n",
    "\n",
    "# train[\"sum of Mother's and fathers age avg\"]=(train[\"Mother's age\"]+train[\"Father's age\"]) / 2\n",
    "# train[\"total symptom\"]=(train[\"Symptom 1\"]+train[\"Symptom 2\"]+train[\"Symptom 3\"]+train[\"Symptom 4\"]+train[\"Symptom 5\"]) / 5\n"
   ]
  },
  {
   "cell_type": "markdown",
   "metadata": {},
   "source": [
    "## Now we have cleaned data: Let us test classifiers on it."
   ]
  },
  {
   "cell_type": "markdown",
   "metadata": {},
   "source": [
    "**Split the data into test and train sets, using 80% of the data for training**"
   ]
  },
  {
   "cell_type": "code",
   "execution_count": 125,
   "metadata": {},
   "outputs": [],
   "source": [
    "from sklearn.model_selection import train_test_split\n",
    "from sklearn.metrics import accuracy_score\n",
    "\n",
    "targetColumn = 'Disorder Subclass'\n",
    "output_set = train[targetColumn]\n",
    "input_set = train.drop(columns=[targetColumn])\n",
    "X_train, X_test, Y_train, Y_test = train_test_split(input_set, output_set, test_size=0.2, random_state = 1)\n"
   ]
  },
  {
   "cell_type": "code",
   "execution_count": 126,
   "metadata": {},
   "outputs": [
    {
     "name": "stderr",
     "output_type": "stream",
     "text": [
      "/home/archie/dev/larks/backend/.venv/lib/python3.8/site-packages/sklearn/base.py:458: UserWarning: X has feature names, but DecisionTreeClassifier was fitted without feature names\n",
      "  warnings.warn(\n"
     ]
    },
    {
     "data": {
      "text/plain": [
       "0.7206303724928367"
      ]
     },
     "execution_count": 126,
     "metadata": {},
     "output_type": "execute_result"
    }
   ],
   "source": [
    "from sklearn.tree import DecisionTreeClassifier\n",
    "\n",
    "M = DecisionTreeClassifier()\n",
    "M.fit(X_train.values, Y_train) # x.values because: https://stackoverflow.com/questions/69326639/sklearn-warning-valid-feature-names-in-version-1-0\n",
    "\n",
    "predictions = M.predict(X_test)\n",
    "accuracy_score(Y_test, predictions) # Produces diff each time as the train_test_split splitting is random each time."
   ]
  },
  {
   "cell_type": "code",
   "execution_count": 127,
   "metadata": {},
   "outputs": [
    {
     "data": {
      "text/plain": [
       "0.4713467048710602"
      ]
     },
     "execution_count": 127,
     "metadata": {},
     "output_type": "execute_result"
    }
   ],
   "source": [
    "from sklearn.neighbors import KNeighborsClassifier\n",
    "\n",
    "knn = KNeighborsClassifier(n_neighbors = 2000)\n",
    "knn.fit(X_train, Y_train)\n",
    "\n",
    "prediction = knn.predict(X_test)\n",
    "accuracy_score(Y_test, prediction)"
   ]
  },
  {
   "cell_type": "code",
   "execution_count": 128,
   "metadata": {},
   "outputs": [
    {
     "data": {
      "text/plain": [
       "0.7750716332378224"
      ]
     },
     "execution_count": 128,
     "metadata": {},
     "output_type": "execute_result"
    }
   ],
   "source": [
    "#Import svm model\n",
    "from sklearn import svm\n",
    "\n",
    "model = svm.SVC(kernel='linear') # Linear Kernel\n",
    "model.fit(X_train, Y_train)\n",
    "\n",
    "prediction = model.predict(X_test)\n",
    "accuracy_score(Y_test, prediction)"
   ]
  },
  {
   "cell_type": "code",
   "execution_count": null,
   "metadata": {},
   "outputs": [],
   "source": [
    "# TODO: Test more models: https://www.simplilearn.com/tutorials/scikit-learn-tutorial/sklearn-regression-models"
   ]
  },
  {
   "cell_type": "code",
   "execution_count": null,
   "metadata": {},
   "outputs": [],
   "source": [
    "from sklearn.linear_model import ElasticNet\n",
    "\n",
    "model = ElasticNet()\n",
    "model.fit(X_train, Y_train)\n",
    "\n",
    "prediction = model.predict(X_test)\n",
    "accuracy_score(Y_test, prediction)"
   ]
  },
  {
   "cell_type": "markdown",
   "metadata": {},
   "source": [
    "**The following models are trained using only 70% of the data**"
   ]
  },
  {
   "cell_type": "code",
   "execution_count": 129,
   "metadata": {},
   "outputs": [
    {
     "data": {
      "text/plain": [
       "0.7736389684813754"
      ]
     },
     "execution_count": 129,
     "metadata": {},
     "output_type": "execute_result"
    }
   ],
   "source": [
    "#Import svm model\n",
    "from sklearn import svm\n",
    "\n",
    "X_train, X_test, Y_train, Y_test = train_test_split(input_set, output_set, test_size=0.3, random_state = 1)\n",
    "\n",
    "model = svm.SVC(kernel='linear') # Linear Kernel\n",
    "model.fit(X_train, Y_train)\n",
    "\n",
    "prediction = model.predict(X_test)\n",
    "accuracy_score(Y_test, prediction)"
   ]
  },
  {
   "cell_type": "code",
   "execution_count": 130,
   "metadata": {},
   "outputs": [
    {
     "data": {
      "text/plain": [
       "0.5978987583572111"
      ]
     },
     "execution_count": 130,
     "metadata": {},
     "output_type": "execute_result"
    }
   ],
   "source": [
    "model = svm.SVC(kernel='poly') # Linear Kernel\n",
    "model.fit(X_train, Y_train)\n",
    "\n",
    "prediction = model.predict(X_test)\n",
    "accuracy_score(Y_test, prediction)"
   ]
  },
  {
   "cell_type": "code",
   "execution_count": 131,
   "metadata": {},
   "outputs": [
    {
     "data": {
      "text/plain": [
       "0.47373447946513847"
      ]
     },
     "execution_count": 131,
     "metadata": {},
     "output_type": "execute_result"
    }
   ],
   "source": [
    "model = svm.SVC(kernel='rbf') # Linear Kernel\n",
    "model.fit(X_train, Y_train)\n",
    "\n",
    "prediction = model.predict(X_test)\n",
    "accuracy_score(Y_test, prediction)"
   ]
  }
 ],
 "metadata": {
  "kernelspec": {
   "display_name": "Python 3 (ipykernel)",
   "language": "python",
   "name": "python3"
  },
  "language_info": {
   "codemirror_mode": {
    "name": "ipython",
    "version": 3
   },
   "file_extension": ".py",
   "mimetype": "text/x-python",
   "name": "python",
   "nbconvert_exporter": "python",
   "pygments_lexer": "ipython3",
   "version": "3.8.18"
  }
 },
 "nbformat": 4,
 "nbformat_minor": 4
}
